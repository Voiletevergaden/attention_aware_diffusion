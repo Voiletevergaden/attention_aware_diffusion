{
 "cells": [
  {
   "cell_type": "code",
   "execution_count": null,
   "id": "initial_id",
   "metadata": {
    "collapsed": true
   },
   "outputs": [],
   "source": [
    "! python main.py --task celltype_GRN --data_file data/500_STRING_hESC/data.csv --net_file data/500_STRING_hESC/label.csv --setting new --alpha 100 --beta 1 --n_epoch 90 --save_name out\n",
    "!python main.py --task celltype_GRN --data_file data/500_ChIP-seq_hESC/data.csv --net_file data/500_ChIP-seq_hESC/label.csv --setting new --alpha 0.1 --beta 0.01 --n_epochs 90  --save_name out"
   ]
  },
  {
   "cell_type": "code",
   "outputs": [
    {
     "data": {
      "text/plain": "1.4056919426013865"
     },
     "execution_count": 11,
     "metadata": {},
     "output_type": "execute_result"
    }
   ],
   "source": [
    "# Calculate EPR values\n",
    "import pandas as pd\n",
    "\n",
    "output = pd.read_csv('../out/GRN_inference_result_500_ChIP.tsv', sep='\\t')\n",
    "output['EdgeWeight'] = abs(output['WeightOfEdge'])\n",
    "output = output.sort_values('EdgeWeight', ascending=False)\n",
    "label = pd.read_csv('../data/500_ChIP-seq_hESC/label.csv')\n",
    "TFs = set(label['Gene1'])\n",
    "Genes = set(label['Gene1']) | set(label['Gene2'])\n",
    "output = output[output['TF'].apply(lambda x: x in TFs)]\n",
    "output = output[output['Target'].apply(lambda x: x in Genes)]\n",
    "label_set = set(label['Gene1'] + '|' + label['Gene2'])\n",
    "output = output.iloc[:len(label_set)]\n",
    "len(set(output['TF'] + '|' + output['Target']) & label_set) / (\n",
    "            len(label_set) ** 2 / (len(TFs) * len(Genes) - len(TFs)))"
   ],
   "metadata": {
    "collapsed": false,
    "ExecuteTime": {
     "end_time": "2025-07-02T09:09:34.488123Z",
     "start_time": "2025-07-02T09:09:34.449851Z"
    }
   },
   "id": "ec254f047c30b4bc",
   "execution_count": 11
  },
  {
   "cell_type": "code",
   "outputs": [
    {
     "data": {
      "text/plain": "3.799147215637702"
     },
     "execution_count": 13,
     "metadata": {},
     "output_type": "execute_result"
    }
   ],
   "source": [
    "# Calculate EPR values\n",
    "import pandas as pd\n",
    "\n",
    "output = pd.read_csv('../out/GRN_inference_result_500_STRING.tsv', sep='\\t')\n",
    "output['EdgeWeight'] = abs(output['WeightOfEdge'])\n",
    "output = output.sort_values('EdgeWeight', ascending=False)\n",
    "label = pd.read_csv('../data/500_STRING_hESC/label.csv')\n",
    "TFs = set(label['Gene1'])\n",
    "Genes = set(label['Gene1']) | set(label['Gene2'])\n",
    "output = output[output['TF'].apply(lambda x: x in TFs)]\n",
    "output = output[output['Target'].apply(lambda x: x in Genes)]\n",
    "label_set = set(label['Gene1'] + '|' + label['Gene2'])\n",
    "output = output.iloc[:len(label_set)]\n",
    "len(set(output['TF'] + '|' + output['Target']) & label_set) / (\n",
    "            len(label_set) ** 2 / (len(TFs) * len(Genes) - len(TFs)))"
   ],
   "metadata": {
    "collapsed": false,
    "ExecuteTime": {
     "end_time": "2025-07-03T03:03:06.902880Z",
     "start_time": "2025-07-03T03:03:06.638869Z"
    }
   },
   "id": "f7f7a01460a62c78",
   "execution_count": 13
  },
  {
   "cell_type": "code",
   "outputs": [
    {
     "data": {
      "text/plain": "1.227751766342536"
     },
     "execution_count": 12,
     "metadata": {},
     "output_type": "execute_result"
    }
   ],
   "source": [
    "# Calculate AUPR ratio values\n",
    "from sklearn.metrics import average_precision_score\n",
    "import numpy as np\n",
    "import pandas as pd\n",
    "\n",
    "output = pd.read_csv('../out/GRN_inference_result_500_ChIP.tsv', sep='\\t')\n",
    "output['EdgeWeight'] = abs(output['WeightOfEdge'])\n",
    "output = output.sort_values('EdgeWeight', ascending=False)\n",
    "label = pd.read_csv('../data/500_ChIP-seq_hESC/label.csv')\n",
    "TFs = set(label['Gene1'])\n",
    "Genes = set(label['Gene1']) | set(label['Gene2'])\n",
    "output = output[output['TF'].apply(lambda x: x in TFs)]\n",
    "output = output[output['Target'].apply(lambda x: x in Genes)]\n",
    "label_set = set(label['Gene1'] + label['Gene2'])\n",
    "preds, labels, randoms = [], [], []\n",
    "res_d = {}\n",
    "l = []\n",
    "p = []\n",
    "for item in (output.to_dict('records')):\n",
    "    res_d[item['TF'] + item['Target']] = item['EdgeWeight']\n",
    "for item in (set(label['Gene1'])):\n",
    "    for item2 in set(label['Gene1']) | set(label['Gene2']):\n",
    "        if item + item2 in label_set:\n",
    "            l.append(1)\n",
    "        else:\n",
    "            l.append(0)\n",
    "        if item + item2 in res_d:\n",
    "            p.append(res_d[item + item2])\n",
    "        else:\n",
    "            p.append(-1)\n",
    "average_precision_score(l, p) / np.mean(l)"
   ],
   "metadata": {
    "collapsed": false,
    "ExecuteTime": {
     "end_time": "2025-07-02T09:09:36.622077Z",
     "start_time": "2025-07-02T09:09:36.494093Z"
    }
   },
   "id": "b4407fdd78b9dca1",
   "execution_count": 12
  }
 ],
 "metadata": {
  "kernelspec": {
   "display_name": "Python 3",
   "language": "python",
   "name": "python3"
  },
  "language_info": {
   "codemirror_mode": {
    "name": "ipython",
    "version": 2
   },
   "file_extension": ".py",
   "mimetype": "text/x-python",
   "name": "python",
   "nbconvert_exporter": "python",
   "pygments_lexer": "ipython2",
   "version": "2.7.6"
  }
 },
 "nbformat": 4,
 "nbformat_minor": 5
}
